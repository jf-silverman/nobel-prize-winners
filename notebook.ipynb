{
 "cells": [
  {
   "cell_type": "markdown",
   "id": "db5bd2ce-918a-4f7d-a927-a3ea74c4b456",
   "metadata": {},
   "source": [
    "# Vizualizaing the History of the Nobel Prize Winners\n",
    "\n",
    "## Project origin and skills focus\n",
    "This is one of several short projects I completed on [Data Camp](https://www.datacamp.com) and uploaded here to showcase my work.  They supplied the subject, dataset and some questions.  I supplied the data processing, analysis, and conclusions.  This project is focused on cleaning and filtering data, as well as performing exploratory data analysis in Python.   \n",
    "\n",
    "## Topic Background\n",
    "The Nobel Prize has been among the most prestigious international awards since 1901. Each year, awards are bestowed in chemistry, literature, physics, physiology or medicine, economics, and peace. In addition to the honor, prestige, and substantial prize money, the recipient also gets a gold medal with an image of Alfred Nobel (1833 - 1896), who established the prize.\n",
    "\n",
    "![](Nobel_Prize.png)\n",
    "\n",
    "The Nobel Foundation has made a dataset available of all prize winners from the outset of the awards from 1901 to 2023. The dataset used in this project is from the Nobel Prize API and is available in the `nobel.csv` file in the `data` folder."
   ]
  },
  {
   "cell_type": "markdown",
   "id": "7e0904d8-e33d-460f-b7a4-1343791b3416",
   "metadata": {},
   "source": [
    "## Analysis Questions \n",
    "1. What is the most commonly awarded gender and birth country? \n",
    "2. Store your answers as string variables top_gender and top_country. \n",
    "3. Which decade had the highest ratio of US-born Nobel Prize winners to total winners in all categories? Store this as an integer called max_decade_usa. \n",
    "4. Which decade and Nobel Prize category combination had the highest proportion of female laureates?  Store this as a dictionary called max_female_dict where the decade is the key and the category is the value. There should only be one key:value pair. \n",
    "5. Who was the first woman to receive a Nobel Prize, and in what category?  Save your string answers as first_woman_name and first_woman_category. \n",
    "6. Which individuals or organizations have won more than one Nobel Prize throughout the years?  Store the full names in a list named repeat_list."
   ]
  },
  {
   "cell_type": "markdown",
   "id": "14a5b248-0f10-45fc-b6ea-8c0df859a07c",
   "metadata": {},
   "source": [
    "### Q1: Which gender has received more Nobel Prizes?"
   ]
  },
  {
   "cell_type": "code",
   "execution_count": 3,
   "id": "11fd5946-7bd1-495c-aa7f-ff6e7e4a350b",
   "metadata": {
    "executionCancelledAt": null,
    "executionTime": 53,
    "lastExecutedAt": 1743805340482,
    "lastExecutedByKernel": "bf5f878b-a589-4d27-a82f-b0d08cd217a0",
    "lastScheduledRunId": null,
    "lastSuccessfullyExecutedCode": "#Q1 Step 1: Load libraries and read in the data, and look at the first rows of the dataframe.\n# Loading in required libraries\nimport pandas as pd\nimport seaborn as sns\nimport numpy as np\n\ndf = pd.read_csv(\"data/nobel.csv\")\ndf.head()",
    "outputsMetadata": {
     "0": {
      "height": 550,
      "tableState": {
       "customFilter": {
        "const": {
         "type": "boolean",
         "valid": true,
         "value": true
        },
        "id": "9185c562-43e2-4e47-a733-f665363582e3",
        "nodeType": "const"
       }
      },
      "type": "dataFrame"
     }
    }
   },
   "outputs": [
    {
     "data": {
      "text/html": [
       "<div>\n",
       "<style scoped>\n",
       "    .dataframe tbody tr th:only-of-type {\n",
       "        vertical-align: middle;\n",
       "    }\n",
       "\n",
       "    .dataframe tbody tr th {\n",
       "        vertical-align: top;\n",
       "    }\n",
       "\n",
       "    .dataframe thead th {\n",
       "        text-align: right;\n",
       "    }\n",
       "</style>\n",
       "<table border=\"1\" class=\"dataframe\">\n",
       "  <thead>\n",
       "    <tr style=\"text-align: right;\">\n",
       "      <th></th>\n",
       "      <th>year</th>\n",
       "      <th>category</th>\n",
       "      <th>prize</th>\n",
       "      <th>motivation</th>\n",
       "      <th>prize_share</th>\n",
       "      <th>laureate_id</th>\n",
       "      <th>laureate_type</th>\n",
       "      <th>full_name</th>\n",
       "      <th>birth_date</th>\n",
       "      <th>birth_city</th>\n",
       "      <th>birth_country</th>\n",
       "      <th>sex</th>\n",
       "      <th>organization_name</th>\n",
       "      <th>organization_city</th>\n",
       "      <th>organization_country</th>\n",
       "      <th>death_date</th>\n",
       "      <th>death_city</th>\n",
       "      <th>death_country</th>\n",
       "    </tr>\n",
       "  </thead>\n",
       "  <tbody>\n",
       "    <tr>\n",
       "      <th>0</th>\n",
       "      <td>1901</td>\n",
       "      <td>Chemistry</td>\n",
       "      <td>The Nobel Prize in Chemistry 1901</td>\n",
       "      <td>\"in recognition of the extraordinary services ...</td>\n",
       "      <td>1/1</td>\n",
       "      <td>160</td>\n",
       "      <td>Individual</td>\n",
       "      <td>Jacobus Henricus van 't Hoff</td>\n",
       "      <td>1852-08-30</td>\n",
       "      <td>Rotterdam</td>\n",
       "      <td>Netherlands</td>\n",
       "      <td>Male</td>\n",
       "      <td>Berlin University</td>\n",
       "      <td>Berlin</td>\n",
       "      <td>Germany</td>\n",
       "      <td>1911-03-01</td>\n",
       "      <td>Berlin</td>\n",
       "      <td>Germany</td>\n",
       "    </tr>\n",
       "    <tr>\n",
       "      <th>1</th>\n",
       "      <td>1901</td>\n",
       "      <td>Literature</td>\n",
       "      <td>The Nobel Prize in Literature 1901</td>\n",
       "      <td>\"in special recognition of his poetic composit...</td>\n",
       "      <td>1/1</td>\n",
       "      <td>569</td>\n",
       "      <td>Individual</td>\n",
       "      <td>Sully Prudhomme</td>\n",
       "      <td>1839-03-16</td>\n",
       "      <td>Paris</td>\n",
       "      <td>France</td>\n",
       "      <td>Male</td>\n",
       "      <td>NaN</td>\n",
       "      <td>NaN</td>\n",
       "      <td>NaN</td>\n",
       "      <td>1907-09-07</td>\n",
       "      <td>Châtenay</td>\n",
       "      <td>France</td>\n",
       "    </tr>\n",
       "    <tr>\n",
       "      <th>2</th>\n",
       "      <td>1901</td>\n",
       "      <td>Medicine</td>\n",
       "      <td>The Nobel Prize in Physiology or Medicine 1901</td>\n",
       "      <td>\"for his work on serum therapy, especially its...</td>\n",
       "      <td>1/1</td>\n",
       "      <td>293</td>\n",
       "      <td>Individual</td>\n",
       "      <td>Emil Adolf von Behring</td>\n",
       "      <td>1854-03-15</td>\n",
       "      <td>Hansdorf (Lawice)</td>\n",
       "      <td>Prussia (Poland)</td>\n",
       "      <td>Male</td>\n",
       "      <td>Marburg University</td>\n",
       "      <td>Marburg</td>\n",
       "      <td>Germany</td>\n",
       "      <td>1917-03-31</td>\n",
       "      <td>Marburg</td>\n",
       "      <td>Germany</td>\n",
       "    </tr>\n",
       "    <tr>\n",
       "      <th>3</th>\n",
       "      <td>1901</td>\n",
       "      <td>Peace</td>\n",
       "      <td>The Nobel Peace Prize 1901</td>\n",
       "      <td>NaN</td>\n",
       "      <td>1/2</td>\n",
       "      <td>462</td>\n",
       "      <td>Individual</td>\n",
       "      <td>Jean Henry Dunant</td>\n",
       "      <td>1828-05-08</td>\n",
       "      <td>Geneva</td>\n",
       "      <td>Switzerland</td>\n",
       "      <td>Male</td>\n",
       "      <td>NaN</td>\n",
       "      <td>NaN</td>\n",
       "      <td>NaN</td>\n",
       "      <td>1910-10-30</td>\n",
       "      <td>Heiden</td>\n",
       "      <td>Switzerland</td>\n",
       "    </tr>\n",
       "    <tr>\n",
       "      <th>4</th>\n",
       "      <td>1901</td>\n",
       "      <td>Peace</td>\n",
       "      <td>The Nobel Peace Prize 1901</td>\n",
       "      <td>NaN</td>\n",
       "      <td>1/2</td>\n",
       "      <td>463</td>\n",
       "      <td>Individual</td>\n",
       "      <td>Frédéric Passy</td>\n",
       "      <td>1822-05-20</td>\n",
       "      <td>Paris</td>\n",
       "      <td>France</td>\n",
       "      <td>Male</td>\n",
       "      <td>NaN</td>\n",
       "      <td>NaN</td>\n",
       "      <td>NaN</td>\n",
       "      <td>1912-06-12</td>\n",
       "      <td>Paris</td>\n",
       "      <td>France</td>\n",
       "    </tr>\n",
       "  </tbody>\n",
       "</table>\n",
       "</div>"
      ],
      "text/plain": [
       "   year    category                                           prize  \\\n",
       "0  1901   Chemistry               The Nobel Prize in Chemistry 1901   \n",
       "1  1901  Literature              The Nobel Prize in Literature 1901   \n",
       "2  1901    Medicine  The Nobel Prize in Physiology or Medicine 1901   \n",
       "3  1901       Peace                      The Nobel Peace Prize 1901   \n",
       "4  1901       Peace                      The Nobel Peace Prize 1901   \n",
       "\n",
       "                                          motivation prize_share  laureate_id  \\\n",
       "0  \"in recognition of the extraordinary services ...         1/1          160   \n",
       "1  \"in special recognition of his poetic composit...         1/1          569   \n",
       "2  \"for his work on serum therapy, especially its...         1/1          293   \n",
       "3                                                NaN         1/2          462   \n",
       "4                                                NaN         1/2          463   \n",
       "\n",
       "  laureate_type                     full_name  birth_date         birth_city  \\\n",
       "0    Individual  Jacobus Henricus van 't Hoff  1852-08-30          Rotterdam   \n",
       "1    Individual               Sully Prudhomme  1839-03-16              Paris   \n",
       "2    Individual        Emil Adolf von Behring  1854-03-15  Hansdorf (Lawice)   \n",
       "3    Individual             Jean Henry Dunant  1828-05-08             Geneva   \n",
       "4    Individual                Frédéric Passy  1822-05-20              Paris   \n",
       "\n",
       "      birth_country   sex   organization_name organization_city  \\\n",
       "0       Netherlands  Male   Berlin University            Berlin   \n",
       "1            France  Male                 NaN               NaN   \n",
       "2  Prussia (Poland)  Male  Marburg University           Marburg   \n",
       "3       Switzerland  Male                 NaN               NaN   \n",
       "4            France  Male                 NaN               NaN   \n",
       "\n",
       "  organization_country  death_date death_city death_country  \n",
       "0              Germany  1911-03-01     Berlin       Germany  \n",
       "1                  NaN  1907-09-07   Châtenay        France  \n",
       "2              Germany  1917-03-31    Marburg       Germany  \n",
       "3                  NaN  1910-10-30     Heiden   Switzerland  \n",
       "4                  NaN  1912-06-12      Paris        France  "
      ]
     },
     "execution_count": 3,
     "metadata": {},
     "output_type": "execute_result"
    }
   ],
   "source": [
    "#Q1 Step 1: Load libraries and read in the data, and look at the first rows of the dataframe.\n",
    "# Loading in required libraries\n",
    "import pandas as pd\n",
    "import seaborn as sns\n",
    "import numpy as np\n",
    "import sys\n",
    "\n",
    "df = pd.read_csv(\"data/nobel.csv\")\n",
    "df.head()"
   ]
  },
  {
   "cell_type": "code",
   "execution_count": 4,
   "id": "8e747654-de92-47af-a272-2c08b941e1de",
   "metadata": {
    "executionCancelledAt": null,
    "executionTime": 53,
    "lastExecutedAt": 1743805340535,
    "lastExecutedByKernel": "bf5f878b-a589-4d27-a82f-b0d08cd217a0",
    "lastScheduledRunId": null,
    "lastSuccessfullyExecutedCode": "#Q1 Step 2:** Look at the value counts for both genders\ndf['sex'].value_counts()",
    "outputsMetadata": {
     "0": {
      "height": 550,
      "tableState": {
       "customFilter": {
        "const": {
         "type": "boolean",
         "valid": true,
         "value": true
        },
        "id": "9185c562-43e2-4e47-a733-f665363582e3",
        "nodeType": "const"
       }
      },
      "type": "dataFrame"
     }
    }
   },
   "outputs": [
    {
     "data": {
      "text/plain": [
       "sex\n",
       "Male      905\n",
       "Female     65\n",
       "Name: count, dtype: int64"
      ]
     },
     "execution_count": 4,
     "metadata": {},
     "output_type": "execute_result"
    }
   ],
   "source": [
    "#Q1 Step 2:** Look at the value counts for both genders\n",
    "df['sex'].value_counts()"
   ]
  },
  {
   "cell_type": "markdown",
   "id": "78cc9237-38ec-45c1-a709-b1c9d321d750",
   "metadata": {},
   "source": [
    "### Q1 Answer: Almost 10 times as many men have been awarded the Nobel Prize as women."
   ]
  },
  {
   "cell_type": "code",
   "execution_count": 5,
   "id": "83f8a5c3-5b19-4505-b3dc-c7188703b0ed",
   "metadata": {
    "executionCancelledAt": null,
    "executionTime": 47,
    "lastExecutedAt": 1743805340582,
    "lastExecutedByKernel": "bf5f878b-a589-4d27-a82f-b0d08cd217a0",
    "lastScheduledRunId": null,
    "lastSuccessfullyExecutedCode": "# assign answer to variable for project check\ntop_gender = \"Male\""
   },
   "outputs": [],
   "source": [
    "# assign answer to variable for project check\n",
    "top_gender = \"Male\""
   ]
  },
  {
   "cell_type": "markdown",
   "id": "2f79800d-3749-4fd5-8e5e-efbf1b643b63",
   "metadata": {},
   "source": [
    "### Q2: What country has won the most Nobel prizes? "
   ]
  },
  {
   "cell_type": "code",
   "execution_count": 6,
   "id": "3f952b9e-6887-47f6-b8cb-bd1ded77edb7",
   "metadata": {
    "executionCancelledAt": null,
    "executionTime": 53,
    "lastExecutedAt": 1743805340635,
    "lastExecutedByKernel": "bf5f878b-a589-4d27-a82f-b0d08cd217a0",
    "lastScheduledRunId": null,
    "lastSuccessfullyExecutedCode": "#Look at the head of the value counts of birth country to find the countries with the most winners\ndf['birth_country'].value_counts().head()",
    "outputsMetadata": {
     "0": {
      "height": 550,
      "tableState": {},
      "type": "dataFrame"
     }
    }
   },
   "outputs": [
    {
     "data": {
      "text/plain": [
       "birth_country\n",
       "United States of America    291\n",
       "United Kingdom               91\n",
       "Germany                      67\n",
       "France                       58\n",
       "Sweden                       30\n",
       "Name: count, dtype: int64"
      ]
     },
     "execution_count": 6,
     "metadata": {},
     "output_type": "execute_result"
    }
   ],
   "source": [
    "#Look at the head of the value counts of birth country to find the countries with the most winners\n",
    "df['birth_country'].value_counts().head()"
   ]
  },
  {
   "cell_type": "markdown",
   "id": "99f48a0c-f962-4ada-9335-a46a54b440e0",
   "metadata": {},
   "source": [
    "### Q2 Answer:  The US has won more Nobel Prizes than any other country; in fact, over 3 times more than any other country."
   ]
  },
  {
   "cell_type": "code",
   "execution_count": 7,
   "id": "0e3c2add-7bfd-4666-a780-8ebd858ca36e",
   "metadata": {
    "executionCancelledAt": null,
    "executionTime": 47,
    "lastExecutedAt": 1743805340682,
    "lastExecutedByKernel": "bf5f878b-a589-4d27-a82f-b0d08cd217a0",
    "lastScheduledRunId": null,
    "lastSuccessfullyExecutedCode": "# assign answer to variable for project check\ntop_country = \"United States of America\""
   },
   "outputs": [],
   "source": [
    "# assign answer to variable for project check\n",
    "top_country = \"United States of America\""
   ]
  },
  {
   "cell_type": "markdown",
   "id": "11c0daff-4b96-404e-9870-e7c01b92828e",
   "metadata": {},
   "source": [
    "### Q3: In what decade did the US have the highest proportion of the Nobel Prizes awarded for the given decade? \n"
   ]
  },
  {
   "cell_type": "code",
   "execution_count": 8,
   "id": "1dd3f422-a449-492d-9d69-c44fc2859f44",
   "metadata": {
    "executionCancelledAt": null,
    "executionTime": 52,
    "lastExecutedAt": 1743805340734,
    "lastExecutedByKernel": "bf5f878b-a589-4d27-a82f-b0d08cd217a0",
    "lastScheduledRunId": null,
    "lastSuccessfullyExecutedCode": "# Q3 Step 1: filter the birth country data for US winners, basically making a column that says if the person/organization was from the US (True/False).\ndf['usa_born'] = df['birth_country']=='United States of America'\ndf['usa_born'].value_counts()",
    "outputsMetadata": {
     "0": {
      "height": 168,
      "tableState": {
       "customFilter": {
        "const": {
         "type": "boolean",
         "valid": true,
         "value": true
        },
        "id": "9185c562-43e2-4e47-a733-f665363582e3",
        "nodeType": "const"
       }
      },
      "type": "dataFrame"
     }
    }
   },
   "outputs": [
    {
     "data": {
      "text/plain": [
       "usa_born\n",
       "False    709\n",
       "True     291\n",
       "Name: count, dtype: int64"
      ]
     },
     "execution_count": 8,
     "metadata": {},
     "output_type": "execute_result"
    }
   ],
   "source": [
    "# Q3 Step 1: filter the birth country data for US winners, basically making a column that says if the person/organization was from the US (True/False).\n",
    "df['usa_born'] = df['birth_country']=='United States of America'\n",
    "df['usa_born'].value_counts()"
   ]
  },
  {
   "cell_type": "markdown",
   "id": "9477410a-73ca-4051-8936-e123cc7aa226",
   "metadata": {},
   "source": [
    "**Note: Looks like the US has won nearly 30% of the awards ever given (291 of 991).**"
   ]
  },
  {
   "cell_type": "code",
   "execution_count": 9,
   "id": "eae395b7-7207-403f-a5b6-5448ee043989",
   "metadata": {
    "executionCancelledAt": null,
    "executionTime": 60,
    "lastExecutedAt": 1743805340794,
    "lastExecutedByKernel": "bf5f878b-a589-4d27-a82f-b0d08cd217a0",
    "lastScheduledRunId": null,
    "lastSuccessfullyExecutedCode": "# Q3 Step 2: Use rounding on the 'year' column data to get the decade for each row\ndf['decade'] = df['year'].round(-1)\ndf['decade'].value_counts().sort_index()",
    "outputsMetadata": {
     "0": {
      "chartState": {
       "chartModel": {
        "cellRange": {
         "columns": [],
         "rowEndIndex": null,
         "rowEndPinned": null,
         "rowStartIndex": null,
         "rowStartPinned": null
        },
        "chartId": "id-5yivhxkbiwh",
        "chartOptions": {
         "common": {
          "animation": {
           "enabled": true
          }
         }
        },
        "chartPalette": {
         "altDown": {
          "fill": "#ffa03a",
          "stroke": "#cc6f10"
         },
         "altNeutral": {
          "fill": "#b5b5b5",
          "stroke": "#575757"
         },
         "altUp": {
          "fill": "#5090dc",
          "stroke": "#2b5c95"
         },
         "down": {
          "fill": "#ef5452",
          "stroke": "#a82529"
         },
         "fills": [
          "#6568A0",
          "#43D7A4",
          "#4095DB",
          "#FACC5F",
          "#CAE279",
          "#F08083",
          "#5BCDF2",
          "#F099DC",
          "#965858",
          "#7DB64F",
          "#A98954"
         ],
         "neutral": {
          "fill": "#b5b5b5",
          "stroke": "#575757"
         },
         "strokes": [
          "#6568A0",
          "#43D7A4",
          "#4095DB",
          "#FACC5F",
          "#CAE279",
          "#F08083",
          "#5BCDF2",
          "#F099DC",
          "#965858",
          "#7DB64F",
          "#A98954"
         ],
         "up": {
          "fill": "#459d55",
          "stroke": "#1e652e"
         }
        },
        "chartThemeName": "datalabTheme",
        "chartType": "groupedColumn",
        "modelType": "range",
        "suppressChartRanges": false,
        "switchCategorySeries": false,
        "unlinkChart": false,
        "version": "32.2.2"
       },
       "rangeChartModel": {
        "rangeColumns": [],
        "switchCategorySeries": false
       }
      },
      "height": 50,
      "tableState": {
       "customFilter": {
        "const": {
         "type": "boolean",
         "valid": true,
         "value": true
        },
        "id": "9185c562-43e2-4e47-a733-f665363582e3",
        "nodeType": "const"
       }
      },
      "type": "dataFrame"
     }
    },
    "version": "ag-charts-v1",
    "visualizeDataframe": false
   },
   "outputs": [
    {
     "data": {
      "text/plain": [
       "decade\n",
       "1900     31\n",
       "1910     51\n",
       "1920     45\n",
       "1930     51\n",
       "1940     46\n",
       "1950     62\n",
       "1960     84\n",
       "1970     81\n",
       "1980    109\n",
       "1990     90\n",
       "2000    133\n",
       "2010    106\n",
       "2020    111\n",
       "Name: count, dtype: int64"
      ]
     },
     "execution_count": 9,
     "metadata": {},
     "output_type": "execute_result"
    }
   ],
   "source": [
    "# Q3 Step 2: Use rounding on the 'year' column data to get the decade for each row\n",
    "df['decade'] = df['year'].round(-1)\n",
    "df['decade'].value_counts().sort_index()"
   ]
  },
  {
   "cell_type": "code",
   "execution_count": 10,
   "id": "9dc17991-28f2-410e-942f-95d49ca61c3a",
   "metadata": {
    "executionCancelledAt": null,
    "executionTime": 52,
    "lastExecutedAt": 1743805340846,
    "lastExecutedByKernel": "bf5f878b-a589-4d27-a82f-b0d08cd217a0",
    "lastScheduledRunId": null,
    "lastSuccessfullyExecutedCode": "# Q3 Step 3: use '.groupby()' to sum the US-born winners for each decade\nus_per_decade = df.groupby(\"decade\")[\"usa_born\"].sum()\nprint(us_per_decade.sort_index())\n",
    "outputsMetadata": {
     "0": {
      "height": 332,
      "type": "stream"
     }
    }
   },
   "outputs": [
    {
     "name": "stdout",
     "output_type": "stream",
     "text": [
      "decade\n",
      "1900     0\n",
      "1910     3\n",
      "1920     3\n",
      "1930    11\n",
      "1940     9\n",
      "1950    21\n",
      "1960    21\n",
      "1970    22\n",
      "1980    38\n",
      "1990    34\n",
      "2000    55\n",
      "2010    40\n",
      "2020    34\n",
      "Name: usa_born, dtype: int64\n"
     ]
    }
   ],
   "source": [
    "# Q3 Step 3: use '.groupby()' to sum the US-born winners for each decade\n",
    "us_per_decade = df.groupby(\"decade\")[\"usa_born\"].sum()\n",
    "print(us_per_decade.sort_index())\n"
   ]
  },
  {
   "cell_type": "code",
   "execution_count": 11,
   "id": "1d687a19-b0f3-4ec6-991e-e2fcc0ec4329",
   "metadata": {
    "executionCancelledAt": null,
    "executionTime": 52,
    "lastExecutedAt": 1743805340898,
    "lastExecutedByKernel": "bf5f878b-a589-4d27-a82f-b0d08cd217a0",
    "lastScheduledRunId": null,
    "lastSuccessfullyExecutedCode": "# Q3 Step 4: get the number of records in each decade.\ntotal_per_decade = df[\"decade\"].value_counts()\nprint(total_per_decade.sort_index())",
    "outputsMetadata": {
     "0": {
      "height": 312,
      "type": "stream"
     }
    }
   },
   "outputs": [
    {
     "name": "stdout",
     "output_type": "stream",
     "text": [
      "decade\n",
      "1900     31\n",
      "1910     51\n",
      "1920     45\n",
      "1930     51\n",
      "1940     46\n",
      "1950     62\n",
      "1960     84\n",
      "1970     81\n",
      "1980    109\n",
      "1990     90\n",
      "2000    133\n",
      "2010    106\n",
      "2020    111\n",
      "Name: count, dtype: int64\n"
     ]
    }
   ],
   "source": [
    "# Q3 Step 4: get the number of records in each decade.\n",
    "total_per_decade = df[\"decade\"].value_counts()\n",
    "print(total_per_decade.sort_index())"
   ]
  },
  {
   "cell_type": "code",
   "execution_count": 12,
   "id": "3833af81-02bf-4526-864a-0f98fe534d22",
   "metadata": {
    "executionCancelledAt": null,
    "executionTime": 477,
    "lastExecutedAt": 1743805341375,
    "lastExecutedByKernel": "bf5f878b-a589-4d27-a82f-b0d08cd217a0",
    "lastScheduledRunId": null,
    "lastSuccessfullyExecutedCode": "# Q3 Step 5: calc the ratio of US to World awards for each decade, reset the index so the decade info becomes a column that can be easily used in the plot. Name the columns.  Make a line plot. Save the highest ratio in the chart as a variable (max_decade_usa).\nus_per_decade_ratio = us_per_decade / total_per_decade\nus_per_decade_ratio = us_per_decade_ratio.reset_index()\nus_per_decade_ratio.columns = [\"decade\", \"ratio\"]\nsns.set_style(\"darkgrid\")\nsns.relplot(x='decade', y='ratio', data=us_per_decade_ratio, kind=\"line\")\nmax_decade_usa = 2000\nprint(f'\\n Decade with highest ratio of US winners:  {max_decade_usa}')",
    "outputsMetadata": {
     "0": {
      "height": 59,
      "type": "stream"
     }
    }
   },
   "outputs": [
    {
     "name": "stdout",
     "output_type": "stream",
     "text": [
      "\n",
      " Decade with highest ratio of US winners:  2000\n"
     ]
    },
    {
     "data": {
      "image/png": "[encoded data removed]",
      "text/plain": [
       "<Figure size 500x500 with 1 Axes>"
      ]
     },
     "metadata": {},
     "output_type": "display_data"
    }
   ],
   "source": [
    "# Q3 Step 5: calc the ratio of US to World awards for each decade, reset the index so the decade info becomes a column that can be easily used in the plot. Name the columns.  Make a line plot. Save the highest ratio in the chart as a variable (max_decade_usa).\n",
    "us_per_decade_ratio = us_per_decade / total_per_decade\n",
    "us_per_decade_ratio = us_per_decade_ratio.reset_index()\n",
    "us_per_decade_ratio.columns = [\"decade\", \"ratio\"]\n",
    "sns.set_style(\"darkgrid\")\n",
    "sns.relplot(x='decade', y='ratio', data=us_per_decade_ratio, kind=\"line\")\n",
    "max_decade_usa = 2000\n",
    "print(f'\\n Decade with highest ratio of US winners:  {max_decade_usa}')"
   ]
  },
  {
   "cell_type": "markdown",
   "id": "79cea3ba-239d-4a12-8386-fb67e9c0f44d",
   "metadata": {},
   "source": [
    "### Q3 Answer: The 2000s had the highest proportion of US winners."
   ]
  },
  {
   "cell_type": "markdown",
   "id": "aa65ef96-bf71-4743-8d8f-4e46445fbf1c",
   "metadata": {},
   "source": [
    "### Q4 Which decade and Nobel Prize category combination had the highest proportion of female laureates? "
   ]
  },
  {
   "cell_type": "code",
   "execution_count": 13,
   "id": "9cf0b14c-1327-4fdf-9267-d1a2a3da84c2",
   "metadata": {
    "executionCancelledAt": null,
    "executionTime": 56,
    "lastExecutedAt": 1743805341431,
    "lastExecutedByKernel": "bf5f878b-a589-4d27-a82f-b0d08cd217a0",
    "lastScheduledRunId": null,
    "lastSuccessfullyExecutedCode": "# Q4 Step 1: Filter the gender m/f column to get a boolean column of T/F female. Get value counts\ndf['female'] = df['sex']=='Female'\ndf['female'].value_counts()",
    "outputsMetadata": {
     "0": {
      "height": 168,
      "tableState": {
       "customFilter": {
        "const": {
         "type": "boolean",
         "valid": true,
         "value": true
        },
        "id": "9185c562-43e2-4e47-a733-f665363582e3",
        "nodeType": "const"
       }
      },
      "type": "dataFrame"
     }
    }
   },
   "outputs": [
    {
     "data": {
      "text/plain": [
       "female\n",
       "False    935\n",
       "True      65\n",
       "Name: count, dtype: int64"
      ]
     },
     "execution_count": 13,
     "metadata": {},
     "output_type": "execute_result"
    }
   ],
   "source": [
    "# Q4 Step 1: Filter the gender m/f column to get a boolean column of T/F female. Get value counts\n",
    "df['female'] = df['sex']=='Female'\n",
    "df['female'].value_counts()"
   ]
  },
  {
   "cell_type": "code",
   "execution_count": 14,
   "id": "952648d9-010b-444e-ba78-5a5cc1b53c3a",
   "metadata": {
    "executionCancelledAt": null,
    "executionTime": 51,
    "lastExecutedAt": 1743805341482,
    "lastExecutedByKernel": "bf5f878b-a589-4d27-a82f-b0d08cd217a0",
    "lastScheduledRunId": null,
    "lastSuccessfullyExecutedCode": "# Let's also see which decade had the most female winners.\ndf.groupby(\"decade\")[\"female\"].sum().sort_index(ascending=False)",
    "outputsMetadata": {
     "0": {
      "height": 464,
      "tableState": {},
      "type": "dataFrame"
     }
    }
   },
   "outputs": [
    {
     "data": {
      "text/plain": [
       "decade\n",
       "2020    18\n",
       "2010    13\n",
       "2000     7\n",
       "1990     6\n",
       "1980     6\n",
       "1970     1\n",
       "1960     2\n",
       "1950     2\n",
       "1940     3\n",
       "1930     3\n",
       "1920     0\n",
       "1910     2\n",
       "1900     2\n",
       "Name: female, dtype: int64"
      ]
     },
     "execution_count": 14,
     "metadata": {},
     "output_type": "execute_result"
    }
   ],
   "source": [
    "# Let's also see which decade had the most female winners.\n",
    "df.groupby(\"decade\")[\"female\"].sum().sort_index(ascending=False)"
   ]
  },
  {
   "cell_type": "code",
   "execution_count": 15,
   "id": "90ca792c-50b0-46ed-857f-47010de508b7",
   "metadata": {
    "executionCancelledAt": null,
    "executionTime": 52,
    "lastExecutedAt": 1743805341534,
    "lastExecutedByKernel": "bf5f878b-a589-4d27-a82f-b0d08cd217a0",
    "lastScheduledRunId": null,
    "lastSuccessfullyExecutedCode": "# Q4 Step 2: Groupby decade and prize category, summing by female boolean column (count of female=True).\nf_per_decade = df.groupby([\"decade\",\"category\"])[\"female\"].sum()\nprint(f_per_decade.head(15))",
    "outputsMetadata": {
     "0": {
      "height": 375,
      "type": "stream"
     }
    }
   },
   "outputs": [
    {
     "name": "stdout",
     "output_type": "stream",
     "text": [
      "decade  category  \n",
      "1900    Chemistry     0\n",
      "        Literature    0\n",
      "        Medicine      0\n",
      "        Peace         1\n",
      "        Physics       1\n",
      "1910    Chemistry     1\n",
      "        Literature    1\n",
      "        Medicine      0\n",
      "        Peace         0\n",
      "        Physics       0\n",
      "1920    Chemistry     0\n",
      "        Literature    0\n",
      "        Medicine      0\n",
      "        Peace         0\n",
      "        Physics       0\n",
      "Name: female, dtype: int64\n"
     ]
    }
   ],
   "source": [
    "# Q4 Step 2: Groupby decade and prize category, summing by female boolean column (count of female=True).\n",
    "f_per_decade = df.groupby([\"decade\",\"category\"])[\"female\"].sum()\n",
    "print(f_per_decade.head(15))"
   ]
  },
  {
   "cell_type": "code",
   "execution_count": 16,
   "id": "61f06b1b-76a2-402b-aaf2-881061c6ec23",
   "metadata": {
    "executionCancelledAt": null,
    "executionTime": 52,
    "lastExecutedAt": 1743805341586,
    "lastExecutedByKernel": "bf5f878b-a589-4d27-a82f-b0d08cd217a0",
    "lastScheduledRunId": null,
    "lastSuccessfullyExecutedCode": "# Q4 Step 3: Groupby decade and category, counting both genders\ntotal_per_decade_and_cat = df.groupby([\"decade\",\"category\"])[\"sex\"].count()\nprint(total_per_decade_and_cat.head(15))",
    "outputsMetadata": {
     "0": {
      "height": 375,
      "type": "stream"
     }
    }
   },
   "outputs": [
    {
     "name": "stdout",
     "output_type": "stream",
     "text": [
      "decade  category  \n",
      "1900    Chemistry      5\n",
      "        Literature     6\n",
      "        Medicine       5\n",
      "        Peace          6\n",
      "        Physics        8\n",
      "1910    Chemistry     10\n",
      "        Literature     8\n",
      "        Medicine      11\n",
      "        Peace         11\n",
      "        Physics       10\n",
      "1920    Chemistry      7\n",
      "        Literature    11\n",
      "        Medicine       7\n",
      "        Peace          7\n",
      "        Physics       12\n",
      "Name: sex, dtype: int64\n"
     ]
    }
   ],
   "source": [
    "# Q4 Step 3: Groupby decade and category, counting both genders\n",
    "total_per_decade_and_cat = df.groupby([\"decade\",\"category\"])[\"sex\"].count()\n",
    "print(total_per_decade_and_cat.head(15))"
   ]
  },
  {
   "cell_type": "code",
   "execution_count": 17,
   "id": "a99c3aca-205f-4b5b-8b5c-ef6f41a8263a",
   "metadata": {
    "executionCancelledAt": null,
    "executionTime": 52,
    "lastExecutedAt": 1743805341638,
    "lastExecutedByKernel": "bf5f878b-a589-4d27-a82f-b0d08cd217a0",
    "lastScheduledRunId": null,
    "lastSuccessfullyExecutedCode": "# Q4 Step 4: calculate the ratio of the two arrays.  Reset the index. Sort and look at highest ratio decade.\nf_per_decade_ratio = f_per_decade / total_per_decade_and_cat\n#print(f_per_decade_ratio.sort_values(ascending=False).head())\nf_per_decade_ratio = f_per_decade_ratio.reset_index()\nf_per_decade_ratio.columns = [\"decade\", \"category\",\"ratio\"]\nprint(f_per_decade_ratio.sort_values(by=\"ratio\",ascending=False).head())",
    "outputsMetadata": {
     "0": {
      "height": 143,
      "type": "stream"
     }
    }
   },
   "outputs": [
    {
     "name": "stdout",
     "output_type": "stream",
     "text": [
      "    decade    category     ratio\n",
      "67    2020  Literature  0.444444\n",
      "63    2010       Peace  0.400000\n",
      "69    2020       Peace  0.375000\n",
      "45    1980       Peace  0.363636\n",
      "61    2010  Literature  0.333333\n"
     ]
    }
   ],
   "source": [
    "# Q4 Step 4: calculate the ratio of the two arrays.  Reset the index. Sort and look at highest ratio decade.\n",
    "f_per_decade_ratio = f_per_decade / total_per_decade_and_cat\n",
    "#print(f_per_decade_ratio.sort_values(ascending=False).head())\n",
    "f_per_decade_ratio = f_per_decade_ratio.reset_index()\n",
    "f_per_decade_ratio.columns = [\"decade\", \"category\",\"ratio\"]\n",
    "print(f_per_decade_ratio.sort_values(by=\"ratio\",ascending=False).head())"
   ]
  },
  {
   "cell_type": "code",
   "execution_count": 18,
   "id": "8af8a9a7-dbe4-4863-9e36-53eae78ee132",
   "metadata": {
    "executionCancelledAt": null,
    "executionTime": 455,
    "lastExecutedAt": 1743805342093,
    "lastExecutedByKernel": "bf5f878b-a589-4d27-a82f-b0d08cd217a0",
    "lastScheduledRunId": null,
    "lastSuccessfullyExecutedCode": "# Q4 Step 5: Plot the ratio by decade\nsns.set_style(\"darkgrid\")\nsns.relplot(x='decade', y='ratio', data=f_per_decade_ratio, kind=\"line\",ci=None)\nmax_female_dict = {2020:\"Literature\"}\nprint(\"The decade with highest ratio of female winners is the 2020s and category was Literature\")",
    "outputsMetadata": {
     "0": {
      "height": 38,
      "type": "stream"
     }
    }
   },
   "outputs": [
    {
     "name": "stderr",
     "output_type": "stream",
     "text": [
      "/Users/jfs-m3/jfs_env_2025_1/lib/python3.12/site-packages/seaborn/axisgrid.py:854: FutureWarning: \n",
      "\n",
      "The `ci` parameter is deprecated. Use `errorbar=None` for the same effect.\n",
      "\n",
      "  func(*plot_args, **plot_kwargs)\n"
     ]
    },
    {
     "data": {
      "image/png": "[encoded data removed]",
      "text/plain": [
       "<Figure size 500x500 with 1 Axes>"
      ]
     },
     "metadata": {},
     "output_type": "display_data"
    }
   ],
   "source": [
    "# Q4 Step 5: Plot the ratio by decade\n",
    "sns.set_style(\"darkgrid\")\n",
    "sns.relplot(x='decade', y='ratio', data=f_per_decade_ratio, kind=\"line\",ci=None)\n",
    "max_female_dict = {2020:\"Literature\"}"
   ]
  },
  {
   "cell_type": "markdown",
   "id": "2b5ef8b5-357d-4ad3-8bed-d56764e317a2",
   "metadata": {},
   "source": [
    "### Q4 Answer: The decade with highest ratio of female winners is the 2020s and the category was Literature.  Although the proportion of female winners has more than doubled since 2000, it is still only around 25% of the winners."
   ]
  },
  {
   "cell_type": "markdown",
   "id": "24dc2343-1114-4af6-8b5f-fffd8746dec3",
   "metadata": {},
   "source": [
    "### Q5: Who was the first woman to receive a Nobel Prize, and in what category? Save string answers as first_woman_name and first_woman_category."
   ]
  },
  {
   "cell_type": "code",
   "execution_count": 19,
   "id": "d239d116-0c40-41cd-8c5b-61ebfd21f040",
   "metadata": {
    "executionCancelledAt": null,
    "executionTime": 57,
    "lastExecutedAt": 1743805342150,
    "lastExecutedByKernel": "bf5f878b-a589-4d27-a82f-b0d08cd217a0",
    "lastScheduledRunId": null,
    "lastSuccessfullyExecutedCode": "f_winners = df[df['sex']=='Female'].sort_values(\"year\",ascending=True)\nfirst_woman_name = f_winners['full_name'].values[0]\nprint(first_woman_name)\nfirst_woman_category = f_winners['category'].values[0]\nprint(first_woman_category)",
    "outputsMetadata": {
     "0": {
      "height": 59,
      "type": "stream"
     }
    }
   },
   "outputs": [
    {
     "name": "stdout",
     "output_type": "stream",
     "text": [
      "Marie Curie, née Sklodowska\n",
      "Physics\n"
     ]
    }
   ],
   "source": [
    "f_winners = df[df['sex']=='Female'].sort_values(\"year\",ascending=True)\n",
    "first_woman_name = f_winners['full_name'].values[0]\n",
    "print(first_woman_name)\n",
    "first_woman_category = f_winners['category'].values[0]\n",
    "print(first_woman_category)"
   ]
  },
  {
   "cell_type": "markdown",
   "id": "df7cbb87-886b-4421-b097-37c3d520313d",
   "metadata": {},
   "source": [
    "### Q5 Answer: Marie Curie"
   ]
  },
  {
   "cell_type": "code",
   "execution_count": 24,
   "id": "07110099-968c-483a-be1a-4758f7be152e",
   "metadata": {
    "executionCancelledAt": null,
    "executionTime": 47,
    "lastExecutedAt": 1743805590638,
    "lastExecutedByKernel": "bf5f878b-a589-4d27-a82f-b0d08cd217a0",
    "lastScheduledRunId": null,
    "lastSuccessfullyExecutedCode": "win_counts = df['full_name'].value_counts().sort_values(ascending=False)\nrepeat_list = []\nfor val in win_counts.index:\n    if win_counts[val] > 1:\n        repeat_list.append(val)\n",
    "outputsMetadata": {
     "0": {
      "height": 59,
      "type": "stream"
     }
    }
   },
   "outputs": [],
   "source": [
    "win_counts = df['full_name'].value_counts().sort_values(ascending=False)\n",
    "repeat_list = []\n",
    "for val in win_counts.index:\n",
    "    if win_counts[val] > 1:\n",
    "        repeat_list.append(val)\n"
   ]
  },
  {
   "cell_type": "markdown",
   "id": "a928b23a-ffc8-4cf7-be20-f035091ca89d",
   "metadata": {},
   "source": [
    "### Q6: Which individuals or organizations have won more than one Nobel Prize throughout the years?  Store the full names in a list named repeat_list."
   ]
  },
  {
   "cell_type": "markdown",
   "id": "058c03df-279d-4147-b55e-be65312d00fb",
   "metadata": {},
   "source": [
    "### Q6 Answer: See list below, including Marie Curie!"
   ]
  },
  {
   "cell_type": "code",
   "execution_count": 27,
   "id": "b1f36611-0997-439a-8f9b-16d709563268",
   "metadata": {
    "executionCancelledAt": null,
    "executionTime": 48,
    "lastExecutedAt": 1743805590686,
    "lastExecutedByKernel": "bf5f878b-a589-4d27-a82f-b0d08cd217a0",
    "lastScheduledRunId": null,
    "lastSuccessfullyExecutedCode": "for item in repeat_list:\n    print(item)"
   },
   "outputs": [
    {
     "name": "stdout",
     "output_type": "stream",
     "text": [
      "Comité international de la Croix Rouge (International Committee of the Red Cross)\n",
      "John Bardeen\n",
      "Frederick Sanger\n",
      "Marie Curie, née Sklodowska\n",
      "Office of the United Nations High Commissioner for Refugees (UNHCR)\n",
      "Linus Carl Pauling\n"
     ]
    }
   ],
   "source": [
    "for item in repeat_list:\n",
    "    print(item)"
   ]
  }
 ],
 "metadata": {
  "editor": "DataCamp Workspace",
  "kernelspec": {
   "display_name": "jfs_env_2025_1",
   "language": "python",
   "name": "jfs_env_2025_1"
  },
  "language_info": {
   "codemirror_mode": {
    "name": "ipython",
    "version": 3
   },
   "file_extension": ".py",
   "mimetype": "text/x-python",
   "name": "python",
   "nbconvert_exporter": "python",
   "pygments_lexer": "ipython3",
   "version": "3.12.3"
  }
 },
 "nbformat": 4,
 "nbformat_minor": 5
}
